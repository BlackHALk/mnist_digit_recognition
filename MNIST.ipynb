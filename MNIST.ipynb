{
 "cells": [
  {
   "cell_type": "code",
   "execution_count": 1,
   "metadata": {},
   "outputs": [],
   "source": [
    "import tensorflow as tf"
   ]
  },
  {
   "cell_type": "code",
   "execution_count": null,
   "metadata": {},
   "outputs": [],
   "source": [
    "# Import MNIST data\n",
    "from tensorflow.examples.tutorials.mnist import input_data\n",
    "mnist = input_data.read_data_sets(\"C:/Users/User/Desktop/mnist\", one_hot=True)"
   ]
  },
  {
   "cell_type": "code",
   "execution_count": 3,
   "metadata": {},
   "outputs": [
    {
     "data": {
      "text/plain": [
       "Datasets(train=<tensorflow.contrib.learn.python.learn.datasets.mnist.DataSet object at 0x00000256279A5898>, validation=<tensorflow.contrib.learn.python.learn.datasets.mnist.DataSet object at 0x000002562790DE48>, test=<tensorflow.contrib.learn.python.learn.datasets.mnist.DataSet object at 0x000002562790DE10>)"
      ]
     },
     "execution_count": 3,
     "metadata": {},
     "output_type": "execute_result"
    }
   ],
   "source": [
    "mnist"
   ]
  },
  {
   "cell_type": "code",
   "execution_count": 4,
   "metadata": {},
   "outputs": [],
   "source": [
    "img = mnist.train.images\n",
    "labels = mnist.train.labels\n",
    "\n",
    "import matplotlib.pyplot as plt\n",
    "\n",
    "batch = mnist.train.images\n"
   ]
  },
  {
   "cell_type": "code",
   "execution_count": 5,
   "metadata": {},
   "outputs": [
    {
     "data": {
      "image/png": "[encoded data removed]",
      "text/plain": [
       "<Figure size 432x288 with 1 Axes>"
      ]
     },
     "metadata": {},
     "output_type": "display_data"
    }
   ],
   "source": [
    "plotData = batch[0]\n",
    "plotData = plotData.reshape(28, 28)\n",
    "plt.gray() # use this line if you don't want to see it in color\n",
    "plt.imshow(plotData)\n",
    "plt.show()"
   ]
  },
  {
   "cell_type": "code",
   "execution_count": 6,
   "metadata": {},
   "outputs": [
    {
     "data": {
      "text/plain": [
       "array([0., 0., 0., 0., 0., 0., 0., 1., 0., 0.])"
      ]
     },
     "execution_count": 6,
     "metadata": {},
     "output_type": "execute_result"
    }
   ],
   "source": [
    "labels[0]"
   ]
  },
  {
   "cell_type": "code",
   "execution_count": 72,
   "metadata": {},
   "outputs": [],
   "source": [
    "# Training Parameters\n",
    "\n",
    "learning_rate = 0.001\n",
    "num_steps = 1000\n",
    "batch_size = 32\n",
    "display_steps = 50\n",
    "\n",
    "#Network parameters\n",
    "\n",
    "num_input = 784 # (img shape : 28 * 28)\n",
    "num_classes = 10 #(0-9 digits)\n",
    "dropout = 0.75\n",
    "\n",
    "# tf graph input \n",
    "X = tf.placeholder(tf.float32, [None, num_input])\n",
    "Y = tf.placeholder(tf.float32, [None, num_classes])\n",
    "\n",
    "keep_prob = tf.placeholder(tf.float32) # dropout"
   ]
  },
  {
   "cell_type": "code",
   "execution_count": 73,
   "metadata": {},
   "outputs": [],
   "source": [
    "# Wrapper for simplicity\n",
    "def conv2d(x, W, b, strides = 1):\n",
    "    x = tf.nn.conv2d(x, W, strides=[1, strides, strides, 1], padding='SAME')\n",
    "    x = tf.nn.bias_add(x, b)\n",
    "    \n",
    "    return tf.nn.relu(x)"
   ]
  },
  {
   "cell_type": "code",
   "execution_count": 74,
   "metadata": {},
   "outputs": [],
   "source": [
    "def maxpool2d(x, k=2):\n",
    "    # Maxpooling\n",
    "    \n",
    "    return tf.nn.max_pool(x, ksize=[1, k, k, 1], strides=[1, k, k, 1], padding='SAME')"
   ]
  },
  {
   "cell_type": "code",
   "execution_count": 75,
   "metadata": {},
   "outputs": [],
   "source": [
    "def conv_net(x, weights, biases, dropout): \n",
    "    x = tf.reshape(x, shape=[-1, 28, 28, 1])\n",
    "    \n",
    "    #conv layer\n",
    "    conv1 = conv2d(x, weights['wc1'], biases['bc1'])\n",
    "    # Max pooling\n",
    "    conv1 = maxpool2d(conv1, k=2)\n",
    "    \n",
    "    #conv layer2\n",
    "    conv2 = conv2d(conv1, weights['wc2'], biases['bc2'])\n",
    "    # Max pooling\n",
    "    conv2 = maxpool2d(conv1, k=2)\n",
    "    \n",
    "    # Full connected layer \n",
    "    fc1 = tf.reshape(conv2, [-1, weights['wd1'].get_shape().as_list()[0]])\n",
    "    fc1 = tf.add(tf.matmul(fc1, weights['wd1']), biases['bd1'])\n",
    "    fc1 = tf.nn.relu(fc1)\n",
    "    \n",
    "    # Applying Dropout\n",
    "    fc1 = tf.nn.dropout(fc1, dropout)\n",
    "    # Output class predction\n",
    "    out = tf.add(tf.matmul(fc1, weights['out']), biases['out'])\n",
    "    \n",
    "    return out"
   ]
  },
  {
   "cell_type": "code",
   "execution_count": 76,
   "metadata": {},
   "outputs": [],
   "source": [
    "# storing layers, weights and bias\n",
    "\n",
    "weights = {\n",
    "    # 5 x 5 conv, 1 input, 32 output\n",
    "    'wc1' : tf.Variable(tf.random_normal([5, 5, 1, 32])),\n",
    "    'wc2' : tf.Variable(tf.random_normal([5, 5, 32, 64])),\n",
    "    # Fully connected, 7*7*64 inputs, 1024 outputs\n",
    "    'wd1' : tf.Variable(tf.random_normal([7*7*32, 1024])),\n",
    "    # 1024 inputs, 10 outputs (class prediction)\n",
    "    'out' : tf.Variable(tf.random_normal([1024, num_classes]))\n",
    "}\n",
    "\n",
    "biases = {\n",
    "    'bc1' : tf.Variable(tf.random_normal([32])),\n",
    "    'bc2' : tf.Variable(tf.random_normal([64])),\n",
    "    'bd1' : tf.Variable(tf.random_normal([1024])),\n",
    "    'out' : tf.Variable(tf.random_normal([num_classes])),\n",
    "}"
   ]
  },
  {
   "cell_type": "code",
   "execution_count": 77,
   "metadata": {},
   "outputs": [],
   "source": [
    "# Construct Model\n",
    "logits = conv_net(X, weights, biases, keep_prob)\n",
    "prediction = tf.nn.softmax(logits)\n",
    "\n",
    "# Calc loss and optimization\n",
    "loss_op = tf.reduce_mean(tf.nn.softmax_cross_entropy_with_logits(logits=logits, labels=Y))\n",
    "optimizer = tf.train.AdamOptimizer(learning_rate=learning_rate)\n",
    "train_op = optimizer.minimize(loss_op)\n",
    "\n",
    "# Eval model\n",
    "correct_pred = tf.equal(tf.argmax(prediction, 1), tf.argmax(Y, 1))\n",
    "accuracy = tf.reduce_mean(tf.cast(correct_pred, tf.float32))\n",
    "\n",
    "init = tf.global_variables_initializer()\n",
    "\n"
   ]
  },
  {
   "cell_type": "code",
   "execution_count": 78,
   "metadata": {},
   "outputs": [
    {
     "name": "stdout",
     "output_type": "stream",
     "text": [
      "Step 1, Minibatch Loss= 2870.6765, Training Accuracy= 0.125\n",
      "Step 50, Minibatch Loss= 328.0525, Training Accuracy= 0.500\n",
      "Step 100, Minibatch Loss= 40.5061, Training Accuracy= 0.906\n",
      "Step 150, Minibatch Loss= 91.7284, Training Accuracy= 0.844\n",
      "Step 200, Minibatch Loss= 62.3163, Training Accuracy= 0.844\n",
      "Step 250, Minibatch Loss= 87.7057, Training Accuracy= 0.875\n",
      "Step 300, Minibatch Loss= 80.8447, Training Accuracy= 0.844\n",
      "Step 350, Minibatch Loss= 36.8112, Training Accuracy= 0.906\n",
      "Step 400, Minibatch Loss= 95.2685, Training Accuracy= 0.938\n",
      "Step 450, Minibatch Loss= 148.9629, Training Accuracy= 0.875\n",
      "Step 500, Minibatch Loss= 0.0000, Training Accuracy= 1.000\n",
      "Step 550, Minibatch Loss= 0.0000, Training Accuracy= 1.000\n",
      "Step 600, Minibatch Loss= 22.8998, Training Accuracy= 0.938\n",
      "Step 650, Minibatch Loss= 30.1406, Training Accuracy= 0.969\n",
      "Step 700, Minibatch Loss= 51.1384, Training Accuracy= 0.938\n",
      "Step 750, Minibatch Loss= 88.5917, Training Accuracy= 0.906\n",
      "Step 800, Minibatch Loss= 105.0775, Training Accuracy= 0.906\n",
      "Step 850, Minibatch Loss= 88.3522, Training Accuracy= 0.875\n",
      "Step 900, Minibatch Loss= 38.5469, Training Accuracy= 0.906\n",
      "Step 950, Minibatch Loss= 0.0000, Training Accuracy= 1.000\n",
      "Step 1000, Minibatch Loss= 62.1879, Training Accuracy= 0.875\n",
      "Optimization Finished!\n",
      "Testing Accuracy: 0.9386\n"
     ]
    }
   ],
   "source": [
    "# Start training\n",
    "# Run the initializer\n",
    "saver = tf.train.Saver()\n",
    "\n",
    "with tf.Session() as sess:\n",
    "    \n",
    "    sess.run(init)\n",
    "    dict_value = {}\n",
    "    for step in range(1, num_steps+1):\n",
    "        batch_x, batch_y = mnist.train.next_batch(batch_size)\n",
    "        # Run optimization op (backprop)\n",
    "        sess.run(train_op, feed_dict={X: batch_x, Y: batch_y, keep_prob: dropout})\n",
    "        if step % display_steps == 0 or step == 1:\n",
    "            # Calculate batch loss and accuracy\n",
    "            loss, acc = sess.run([loss_op, accuracy], feed_dict={X: batch_x,\n",
    "                                                                 Y: batch_y,\n",
    "                                                                 keep_prob: 1.0})\n",
    "            dict_value[step] = acc\n",
    "            print(\"Step \" + str(step) + \", Minibatch Loss= \" + \\\n",
    "                  \"{:.4f}\".format(loss) + \", Training Accuracy= \" + \\\n",
    "                  \"{:.3f}\".format(acc))\n",
    "\n",
    "    print(\"Optimization Finished!\")\n",
    "\n",
    "    # Calculate accuracy for 256 MNIST test images\n",
    "    print(\"Testing Accuracy:\", \\\n",
    "        sess.run(accuracy, feed_dict={X: mnist.test.images,\n",
    "                                      Y: mnist.test.labels,\n",
    "                                      keep_prob: 1.0}))\n",
    "\n",
    "    \n",
    "    saver.save(sess, './my_mnist_model.ckpt',global_step=1000)\n"
   ]
  },
  {
   "cell_type": "code",
   "execution_count": 79,
   "metadata": {},
   "outputs": [
    {
     "name": "stdout",
     "output_type": "stream",
     "text": [
      "INFO:tensorflow:Restoring parameters from ./my_mnist_model.ckpt-1000\n",
      "[[0. 0. 0. 0. 0. 0. 0. 0. 1. 0.]]\n"
     ]
    },
    {
     "name": "stderr",
     "output_type": "stream",
     "text": [
      "C:\\Users\\User\\Anaconda3\\lib\\site-packages\\ipykernel_launcher.py:11: DeprecationWarning: `imresize` is deprecated!\n",
      "`imresize` is deprecated in SciPy 1.0.0, and will be removed in 1.2.0.\n",
      "Use ``skimage.transform.resize`` instead.\n",
      "  # This is added back by InteractiveShellApp.init_path()\n"
     ]
    }
   ],
   "source": [
    "saver = tf.train.Saver()\n",
    "\n",
    "def pred():\n",
    "    from PIL import Image\n",
    "    import PIL.ImageOps\n",
    "    from scipy.misc import imresize\n",
    "    import numpy as np\n",
    "    img = Image.open('img.jpg')\n",
    "\n",
    "    im = PIL.ImageOps.invert(img)\n",
    "    im = imresize(im,(28,28))\n",
    "    im = np.mean(im, axis = 2)\n",
    "    return im\n",
    "\n",
    "with tf.Session() as sess:\n",
    "    saver.restore(sess,'./my_mnist_model.ckpt-1000')\n",
    "    im = pred()\n",
    "    print(sess.run(prediction, feed_dict = {X:im.reshape(1,-1), keep_prob:1.0}))\n",
    "    \n",
    "    \n",
    "    "
   ]
  },
  {
   "cell_type": "code",
   "execution_count": 70,
   "metadata": {
    "scrolled": true
   },
   "outputs": [
    {
     "name": "stderr",
     "output_type": "stream",
     "text": [
      "C:\\Users\\User\\Anaconda3\\lib\\site-packages\\ipykernel_launcher.py:9: DeprecationWarning: `imresize` is deprecated!\n",
      "`imresize` is deprecated in SciPy 1.0.0, and will be removed in 1.2.0.\n",
      "Use ``skimage.transform.resize`` instead.\n",
      "  if __name__ == '__main__':\n"
     ]
    },
    {
     "data": {
      "text/plain": [
       "<matplotlib.image.AxesImage at 0x2562ca4d9e8>"
      ]
     },
     "execution_count": 70,
     "metadata": {},
     "output_type": "execute_result"
    },
    {
     "data": {
      "image/png": "[encoded data removed]",
      "text/plain": [
       "<Figure size 432x288 with 1 Axes>"
      ]
     },
     "metadata": {},
     "output_type": "display_data"
    }
   ],
   "source": [
    "def pred():\n",
    "    from PIL import Image\n",
    "    import PIL.ImageOps\n",
    "    from scipy.misc import imresize\n",
    "    import numpy as np\n",
    "    img = Image.open('img.jpg')\n",
    "\n",
    "    im = PIL.ImageOps.invert(img)\n",
    "    im = imresize(im,(28,28))\n",
    "    im = np.mean(im, axis = 2)\n",
    "    return im\n",
    "im = pred()\n",
    "plt.imshow(im)\n"
   ]
  },
  {
   "cell_type": "code",
   "execution_count": null,
   "metadata": {},
   "outputs": [],
   "source": [
    "pwd\n"
   ]
  },
  {
   "cell_type": "code",
   "execution_count": null,
   "metadata": {},
   "outputs": [],
   "source": [
    "sess.run(accuracy, feed_dict={X:im.reshape(1,-1),\n",
    "                                  Y: mnist.test.labels,\n",
    "                                  keep_prob: 1.0})"
   ]
  },
  {
   "cell_type": "code",
   "execution_count": null,
   "metadata": {},
   "outputs": [],
   "source": [
    "    sess.run(accuracy, feed_dict={X: mnist.test.images,\n",
    "                                  Y: mnist.test.labels,\n",
    "                                  keep_prob: 1.0})"
   ]
  },
  {
   "cell_type": "code",
   "execution_count": null,
   "metadata": {},
   "outputs": [],
   "source": []
  },
  {
   "cell_type": "code",
   "execution_count": null,
   "metadata": {},
   "outputs": [],
   "source": []
  },
  {
   "cell_type": "code",
   "execution_count": null,
   "metadata": {},
   "outputs": [],
   "source": []
  },
  {
   "cell_type": "code",
   "execution_count": null,
   "metadata": {},
   "outputs": [],
   "source": [
    "lists = sorted(dict_value.items()) # sorted by key, return a list of tuples\n",
    "\n",
    "x, y = zip(*lists) # unpack a list of pairs into two tuples\n",
    "\n",
    "plt.plot(x, y)\n",
    "plt.show()"
   ]
  },
  {
   "cell_type": "code",
   "execution_count": null,
   "metadata": {},
   "outputs": [],
   "source": []
  },
  {
   "cell_type": "code",
   "execution_count": null,
   "metadata": {},
   "outputs": [],
   "source": []
  },
  {
   "cell_type": "code",
   "execution_count": null,
   "metadata": {},
   "outputs": [],
   "source": []
  },
  {
   "cell_type": "code",
   "execution_count": null,
   "metadata": {},
   "outputs": [],
   "source": []
  },
  {
   "cell_type": "code",
   "execution_count": null,
   "metadata": {},
   "outputs": [],
   "source": []
  },
  {
   "cell_type": "code",
   "execution_count": null,
   "metadata": {},
   "outputs": [],
   "source": []
  }
 ],
 "metadata": {
  "kernelspec": {
   "display_name": "Python 3",
   "language": "python",
   "name": "python3"
  },
  "language_info": {
   "codemirror_mode": {
    "name": "ipython",
    "version": 3
   },
   "file_extension": ".py",
   "mimetype": "text/x-python",
   "name": "python",
   "nbconvert_exporter": "python",
   "pygments_lexer": "ipython3",
   "version": "3.6.6"
  }
 },
 "nbformat": 4,
 "nbformat_minor": 2
}
